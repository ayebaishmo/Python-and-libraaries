{
 "cells": [
  {
   "cell_type": "markdown",
   "metadata": {},
   "source": [
    "## Classes in Python.\n",
    "\n",
    "### What are classes in python.\n",
    "\n",
    "A class is a user-defined blueprint or prototype from which objects are created. Classes provide a means of bundling data and functionality together. Creating a new class creates a new type of object, allowing new instances of that type to be made. Each class instance can have attributes attached to it for maintaining its state. Class instances can also have methods (defined by their class) for modifying their state.\n",
    "\n",
    "To understand the need for creating a class and object in Python let’s consider an example, let’s say you wanted to track the number of dogs that may have different attributes like breed and age. If a list is used, the first element could be the dog’s breed while the second element could represent its age. Let’s suppose there are 100 different dogs, then how would you know which element is supposed to be which? What if you wanted to add other properties to these dogs? This lacks organization and it’s the exact need for classes.\n"
   ]
  },
  {
   "cell_type": "code",
   "execution_count": 5,
   "metadata": {},
   "outputs": [
    {
     "name": "stdout",
     "output_type": "stream",
     "text": [
      "mammal\n",
      "I am mammal\n",
      "I am dog\n"
     ]
    }
   ],
   "source": [
    "# we are defining a class called dog\n",
    "class Dog:\n",
    "\n",
    "    # Attributes in class\n",
    "    attr = \"mammal\"\n",
    "    attr2 = \"dog\"\n",
    "\n",
    "    # A function or method within a class\n",
    "    def fun(self):\n",
    "        print(\"I am\", self.attr)\n",
    "        print(\"I am\", self.attr2)\n",
    "\n",
    "\n",
    "Rodger = Dog()\n",
    "\n",
    "print(Rodger.attr)\n",
    "Rodger.fun()"
   ]
  },
  {
   "cell_type": "markdown",
   "metadata": {},
   "source": [
    "Yes, that's correct. In Python, methods within classes can be accessed using the dot (.) notation. When you create an instance of a class, you can use dot notation to access its methods."
   ]
  },
  {
   "cell_type": "code",
   "execution_count": null,
   "metadata": {},
   "outputs": [],
   "source": []
  }
 ],
 "metadata": {
  "kernelspec": {
   "display_name": "Kaggle_proj",
   "language": "python",
   "name": "python3"
  },
  "language_info": {
   "codemirror_mode": {
    "name": "ipython",
    "version": 3
   },
   "file_extension": ".py",
   "mimetype": "text/x-python",
   "name": "python",
   "nbconvert_exporter": "python",
   "pygments_lexer": "ipython3",
   "version": "3.11.7"
  }
 },
 "nbformat": 4,
 "nbformat_minor": 2
}
